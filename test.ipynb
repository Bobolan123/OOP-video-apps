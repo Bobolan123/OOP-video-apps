{
 "cells": [
  {
   "cell_type": "code",
   "execution_count": 6,
   "metadata": {},
   "outputs": [
    {
     "name": "stdout",
     "output_type": "stream",
     "text": [
      "00:00:45\n"
     ]
    }
   ],
   "source": [
    "def timeConversion(s):\n",
    "    # Write your code here\n",
    "    hour = s[0:2]\n",
    "    m = s[3:5]\n",
    "    sc = s[6:8]\n",
    "    if hour == \"12\" and s[-2:] == \"AM\":\n",
    "        hour = \"00\"\n",
    "    elif hour != \"12\" and s[-2:] == \"PM\":\n",
    "        hour = str(int(hour) + 12)\n",
    "    return f\"{hour}:{m}:{sc}\"\n",
    "print(timeConversion(\"12:00:45AM\"))"
   ]
  }
 ],
 "metadata": {
  "kernelspec": {
   "display_name": "Python 3",
   "language": "python",
   "name": "python3"
  },
  "language_info": {
   "codemirror_mode": {
    "name": "ipython",
    "version": 3
   },
   "file_extension": ".py",
   "mimetype": "text/x-python",
   "name": "python",
   "nbconvert_exporter": "python",
   "pygments_lexer": "ipython3",
   "version": "3.11.3"
  }
 },
 "nbformat": 4,
 "nbformat_minor": 2
}
